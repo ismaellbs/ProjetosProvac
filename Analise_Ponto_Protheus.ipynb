{
 "cells": [
  {
   "cell_type": "code",
   "execution_count": 5,
   "metadata": {},
   "outputs": [],
   "source": [
    "import pandas as pd\n",
    "import numpy as np\n",
    "import pymssql\n",
    "import warnings\n",
    "warnings.filterwarnings(\"ignore\") "
   ]
  },
  {
   "cell_type": "code",
   "execution_count": 6,
   "metadata": {},
   "outputs": [],
   "source": [
    "def conect_totvs():\n",
    "    serv = '192.168.0.236'\n",
    "    databa = 'PROTHEUS_PRODUCAO'\n",
    "    user = 'ismael.silva'\n",
    "    passa = 'w!1zayeUAM'\n",
    "    conn = pymssql.connect(serv, user, passa, databa)\n",
    "    cursor = conn.cursor(as_dict=True)\n",
    "    return conn, cursor"
   ]
  },
  {
   "cell_type": "code",
   "execution_count": 15,
   "metadata": {},
   "outputs": [],
   "source": [
    "con_tot, cursor = conect_totvs()\n",
    "query = \"\"\"SELECT \n",
    "    dbo.SPC010.PC_FILIAL AS Filial, \n",
    "    dbo.SPC010.PC_MAT AS Matricula, \n",
    "    dbo.SRA010.RA_NOME AS Funcionário, \n",
    "    dbo.SRA010.RA_CODFUNC AS [Cód Função], \n",
    "    dbo.SRJ010.RJ_DESC AS [Descrição Função], \n",
    "    dbo.SRA010.RA_CC AS [Cód CC], \n",
    "    dbo.CTT010.CTT_DESC01 AS [Descrição Centro de Custo], \n",
    "    dbo.SRA010.RA_SITFOLH AS Status, \n",
    "    dbo.SRA010.RA_TNOTRAB AS [Cod Tno], \n",
    "    dbo.SR6010.R6_DESC AS [Descrição Turno], \n",
    "    CONVERT(varchar, CONVERT(date, LEFT(dbo.SPC010.PC_DATA, 4) + '-' + SUBSTRING(dbo.SPC010.PC_DATA, 5, 2) + '-' + RIGHT(dbo.SPC010.PC_DATA, 2)), 103) AS Data, \n",
    "    dbo.SPC010.PC_PD AS [Cód Evento], \n",
    "    dbo.SP9010.P9_DESC AS [Decrição Evento], \n",
    "    dbo.SPC010.PC_ABONO AS Abono, \n",
    "    dbo.SPC010.PC_QUANTC AS [Horas Calculadas], \n",
    "    dbo.SPC010.PC_QTABONO AS [Horas Abonadas], \n",
    "    dbo.SPC010.PC_QUANTC - dbo.SPC010.PC_QTABONO AS [Horas Folha], \n",
    "    dbo.SRA010.RA_DEPTO AS [Cód Depto], \n",
    "    dbo.SQB010.QB_DESCRIC AS [Descrição Departamento] \n",
    "FROM \n",
    "    (((((dbo.SPC010 \n",
    "    INNER JOIN dbo.SRA010 ON dbo.SPC010.PC_MAT = dbo.SRA010.RA_MAT) \n",
    "    INNER JOIN dbo.CTT010 ON dbo.SPC010.PC_FILIAL = dbo.CTT010.CTT_FILIAL AND dbo.SRA010.RA_CC = dbo.CTT010.CTT_CUSTO) \n",
    "    INNER JOIN dbo.SP9010 ON dbo.SPC010.PC_PD = dbo.SP9010.P9_CODIGO) \n",
    "    INNER JOIN dbo.SR6010 ON dbo.SRA010.RA_TNOTRAB = dbo.SR6010.R6_TURNO) \n",
    "    INNER JOIN dbo.SQB010 ON dbo.SRA010.RA_DEPTO = dbo.SQB010.QB_DEPTO) \n",
    "    INNER JOIN dbo.SRJ010 ON dbo.SRA010.RA_CODFUNC = dbo.SRJ010.RJ_FUNCAO \n",
    "WHERE \n",
    "    (dbo.SPC010.PC_QUANTC - dbo.SPC010.PC_QTABONO) > 0 \n",
    "    --AND dbo.SPC010.PC_PD NOT IN ('027', '003', '110', '112', '011', '017', '007', '033', '009', '038', '123', '044', '048', '127', '060', '064', '126', '129', '068', '072', '128', '125', '052', '056', '124', '122', '050', '046', '062', '058', '070', '066', '054', '042', '078', '076', '084', '082', '088', '086', '080', '074', '098', '096', '104', '102', '108', '106', '100', '094', '013', '019') \n",
    "    AND dbo.SPC010.D_E_L_E_T_ <> '*' \n",
    "    AND dbo.CTT010.D_E_L_E_T_ <> '*' \n",
    "    AND dbo.SP9010.D_E_L_E_T_ <> '*' \n",
    "    AND dbo.SPC010.PC_PDI = '' \n",
    "    AND dbo.SR6010.D_E_L_E_T_ <> '*' \n",
    "    AND dbo.SQB010.D_E_L_E_T_ <> '*' \n",
    "    AND dbo.SRJ010.D_E_L_E_T_ <> '*' \n",
    "ORDER BY \n",
    "    dbo.SPC010.PC_MAT, dbo.SPC010.PC_DATA, dbo.SPC010.PC_PD;\n",
    "\"\"\"\n",
    "protheus = pd.read_sql_query(query, con_tot)"
   ]
  },
  {
   "cell_type": "code",
   "execution_count": null,
   "metadata": {},
   "outputs": [],
   "source": []
  }
 ],
 "metadata": {
  "kernelspec": {
   "display_name": "Python 3",
   "language": "python",
   "name": "python3"
  },
  "language_info": {
   "codemirror_mode": {
    "name": "ipython",
    "version": 3
   },
   "file_extension": ".py",
   "mimetype": "text/x-python",
   "name": "python",
   "nbconvert_exporter": "python",
   "pygments_lexer": "ipython3",
   "version": "3.11.9"
  }
 },
 "nbformat": 4,
 "nbformat_minor": 2
}
